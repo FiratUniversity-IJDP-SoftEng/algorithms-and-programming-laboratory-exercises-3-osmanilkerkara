{
 "cells": [
  {
   "cell_type": "markdown",
   "metadata": {},
   "source": [
    "# Algorithms and Programming\n",
    "# Exercise Notebook (Intermediate Level)\n",
    "\n",
    "### Name: Osman Ilker Kara        \n",
    "### Student ID: 210543014   \n",
    "### Date: 05/04/2025"
   ]
  },
  {
   "cell_type": "markdown",
   "metadata": {},
   "source": [
    "\n",
    "# Question 1\n",
    "### Write a Python function `is_prime` that determines if the given integer is a prime number.\n",
    "\n",
    "### Test your function\n",
    "```python\n",
    "print(is_prime(11))  # Expected output: True\n",
    "print(is_prime(15))  # Expected output: False\n",
    "```\n",
    "\n"
   ]
  },
  {
   "cell_type": "code",
   "execution_count": 11,
   "metadata": {},
   "outputs": [
    {
     "name": "stdout",
     "output_type": "stream",
     "text": [
      "True\n",
      "False\n"
     ]
    }
   ],
   "source": [
    "# Created by Osman Ilker Kara at 05/04/2025\n",
    "def is_prime(n):\n",
    "    if n <= 1:\n",
    "        return False\n",
    "    # 2 and 3 are prime numbers\n",
    "    if n <= 3:\n",
    "        return True\n",
    "    if n % 2 == 0 or n % 3 == 0:\n",
    "        return False\n",
    "    # Check all possible divisors\n",
    "    i = 5 \n",
    "    while i * i <= n:\n",
    "        if n % i == 0 or n % (i + 2) == 0:\n",
    "            return False\n",
    "        i += 6\n",
    "\n",
    "    return True\n",
    "\n",
    "# Test my function\n",
    "print(is_prime(11))\n",
    "print(is_prime(15))\n",
    "\n",
    "\n",
    "\n"
   ]
  },
  {
   "cell_type": "markdown",
   "metadata": {},
   "source": [
    "# Question 2\n",
    "### Write a Python function `gcd` that calculates the greatest common divisor of two integers using the Euclidean algorithm.\n",
    "\n",
    "### Test your function\n",
    "```python\n",
    "print(gcd(48, 18))  # Expected output: 6\n",
    "print(gcd(100, 25))  # Expected output: 25\n",
    "```"
   ]
  },
  {
   "cell_type": "code",
   "execution_count": 10,
   "metadata": {},
   "outputs": [
    {
     "name": "stdout",
     "output_type": "stream",
     "text": [
      "6\n",
      "25\n"
     ]
    }
   ],
   "source": [
    "# Created by Osman Ilker Kara at 05/04/2025\n",
    "def gcd(a, b):\n",
    "    # Using Euclidean algorithm to find greatest common divisor\n",
    "    while b :\n",
    "        a, b = b, a % b\n",
    "    return a\n",
    "\n",
    "# Test my function\n",
    "print(gcd(48, 18))\n",
    "print(gcd(100, 25))\n",
    "\n",
    "\n",
    "\n",
    "\n"
   ]
  },
  {
   "cell_type": "markdown",
   "metadata": {},
   "source": [
    "# Question 3\n",
    "### Write a Python function `count_vowels` that takes a string as input and returns the count of vowels (a, e, i, o, u) in the string.\n",
    "\n",
    "### Test your function\n",
    "```python\n",
    "print(count_vowels(\"intermediate\"))  # Expected output: 5\n",
    "print(count_vowels(\"algorithm\"))  # Expected output: 3\n",
    "```"
   ]
  },
  {
   "cell_type": "code",
   "execution_count": 12,
   "metadata": {},
   "outputs": [
    {
     "name": "stdout",
     "output_type": "stream",
     "text": [
      "6\n",
      "3\n"
     ]
    }
   ],
   "source": [
    "# Created by Osman Ilker Kara at 05/04/2025\n",
    "def count_vowels(s):\n",
    "    # Upper case letters for if there is any upper case wovels\n",
    "    vowels = \"aeiouAEIOU\"\n",
    "    count = 0\n",
    "\n",
    "    for char in s:\n",
    "        if char in vowels:\n",
    "            count += 1\n",
    "    \n",
    "    return count\n",
    "\n",
    "# Test my fuction\n",
    "print(count_vowels(\"intermediate\"))\n",
    "print(count_vowels(\"algorithm\"))\n"
   ]
  },
  {
   "cell_type": "markdown",
   "metadata": {},
   "source": [
    "# Question 4\n",
    "### Write a Python function `merge_sorted_lists` that merges two sorted lists into a single sorted list without using built-in sort functions.\n",
    "\n",
    "### Test your function\n",
    "```python\n",
    "print(merge_sorted_lists([1, 3, 5], [2, 4, 6]))  # Expected output: [1, 2, 3, 4, 5, 6]\n",
    "print(merge_sorted_lists([-3, 0, 7], [-1, 4, 10]))  # Expected output: [-3, -1, 0, 4, 7, 10]\n",
    "```\n"
   ]
  },
  {
   "cell_type": "code",
   "execution_count": 9,
   "metadata": {},
   "outputs": [
    {
     "name": "stdout",
     "output_type": "stream",
     "text": [
      "[1, 2, 3, 4, 5, 6]\n",
      "[-3, -1, 0, 4, 7, 10]\n"
     ]
    }
   ],
   "source": [
    "# Created by Osman Ilker Kara at 05/04/2025\n",
    "def merge_sorted_lists(list1, list2):\n",
    "    result = []\n",
    "    i = 0\n",
    "    j = 0\n",
    "    # Compare elements from both lists\n",
    "    while i < len(list1) and j < len(list2):\n",
    "        if list1[i] <= list2[j]:\n",
    "            result.append(list1[i])\n",
    "            i += 1\n",
    "        else:\n",
    "            result.append(list2[j])\n",
    "            j += 1\n",
    "    # Add any remaining elements from both lists\n",
    "    result.extend(list1[i:])\n",
    "    result.extend(list2[j:])\n",
    "    \n",
    "    return result\n",
    "\n",
    "# Test my function\n",
    "print(merge_sorted_lists([1, 3, 5], [2, 4, 6]))\n",
    "print(merge_sorted_lists([-3, 0, 7], [-1, 4, 10]))\n",
    "    \n",
    "\n"
   ]
  },
  {
   "cell_type": "markdown",
   "metadata": {},
   "source": [
    "# Question 5\n",
    "### Write a Python function `binary_search` that implements the binary search algorithm on a sorted list and returns the index of the element if found, or -1 if not found.\n",
    "\n",
    "### Test your function\n",
    "```python\n",
    "print(binary_search([1, 3, 5, 7, 9, 11], 7))  # Expected output: 3\n",
    "print(binary_search([2, 4, 6, 8, 10], 5))  # Expected output: -1\n",
    "```"
   ]
  },
  {
   "cell_type": "code",
   "execution_count": null,
   "metadata": {},
   "outputs": [
    {
     "ename": "TypeError",
     "evalue": "unsupported operand type(s) for -: 'list' and 'int'",
     "output_type": "error",
     "traceback": [
      "\u001b[31m---------------------------------------------------------------------------\u001b[39m",
      "\u001b[31mTypeError\u001b[39m                                 Traceback (most recent call last)",
      "\u001b[36mCell\u001b[39m\u001b[36m \u001b[39m\u001b[32mIn[13]\u001b[39m\u001b[32m, line 20\u001b[39m\n\u001b[32m     17\u001b[39m     \u001b[38;5;28;01mreturn\u001b[39;00m -\u001b[32m1\u001b[39m\n\u001b[32m     19\u001b[39m \u001b[38;5;66;03m# Test my function\u001b[39;00m\n\u001b[32m---> \u001b[39m\u001b[32m20\u001b[39m \u001b[38;5;28mprint\u001b[39m(\u001b[43mbinary_search\u001b[49m\u001b[43m(\u001b[49m\u001b[43m[\u001b[49m\u001b[32;43m1\u001b[39;49m\u001b[43m,\u001b[49m\u001b[43m \u001b[49m\u001b[32;43m3\u001b[39;49m\u001b[43m,\u001b[49m\u001b[43m \u001b[49m\u001b[32;43m5\u001b[39;49m\u001b[43m,\u001b[49m\u001b[43m \u001b[49m\u001b[32;43m7\u001b[39;49m\u001b[43m,\u001b[49m\u001b[43m \u001b[49m\u001b[32;43m9\u001b[39;49m\u001b[43m,\u001b[49m\u001b[43m \u001b[49m\u001b[32;43m11\u001b[39;49m\u001b[43m]\u001b[49m\u001b[43m,\u001b[49m\u001b[43m \u001b[49m\u001b[32;43m7\u001b[39;49m\u001b[43m)\u001b[49m)\n\u001b[32m     21\u001b[39m \u001b[38;5;28mprint\u001b[39m(binary_search([\u001b[32m2\u001b[39m, \u001b[32m4\u001b[39m, \u001b[32m6\u001b[39m, \u001b[32m8\u001b[39m, \u001b[32m10\u001b[39m], \u001b[32m5\u001b[39m))\n",
      "\u001b[36mCell\u001b[39m\u001b[36m \u001b[39m\u001b[32mIn[13]\u001b[39m\u001b[32m, line 4\u001b[39m, in \u001b[36mbinary_search\u001b[39m\u001b[34m(arr, target)\u001b[39m\n\u001b[32m      2\u001b[39m \u001b[38;5;28;01mdef\u001b[39;00m\u001b[38;5;250m \u001b[39m\u001b[34mbinary_search\u001b[39m(arr, target):\n\u001b[32m      3\u001b[39m     left = \u001b[32m0\u001b[39m\n\u001b[32m----> \u001b[39m\u001b[32m4\u001b[39m     right = \u001b[38;5;28mlen\u001b[39m(\u001b[43marr\u001b[49m\u001b[43m \u001b[49m\u001b[43m-\u001b[49m\u001b[43m \u001b[49m\u001b[32;43m1\u001b[39;49m)\n\u001b[32m      6\u001b[39m     \u001b[38;5;66;03m# Find the middle index\u001b[39;00m\n\u001b[32m      7\u001b[39m     \u001b[38;5;28;01mwhile\u001b[39;00m left <= right:\n",
      "\u001b[31mTypeError\u001b[39m: unsupported operand type(s) for -: 'list' and 'int'"
     ]
    }
   ],
   "source": [
    "# Created by Osman Ilker Kara at 05/04/2025\n",
    "def binary_search(arr, target):\n",
    "    left = 0\n",
    "    right = len(arr) - 1\n",
    "\n",
    "    # Find the middle index\n",
    "    while left <= right:\n",
    "        mid = (left + right) // 2\n",
    "        # Check if the target is at the middle, greater or smaller\n",
    "        if arr[mid] == target:\n",
    "            return mid \n",
    "        elif arr[mid] < target:\n",
    "            left = mid + 1 \n",
    "        else:\n",
    "            right = mid - 1\n",
    "\n",
    "    return -1\n",
    "\n",
    "# Test my function\n",
    "print(binary_search([1, 3, 5, 7, 9, 11], 7))\n",
    "print(binary_search([2, 4, 6, 8, 10], 5))"
   ]
  },
  {
   "cell_type": "markdown",
   "metadata": {},
   "source": []
  }
 ],
 "metadata": {
  "kernelspec": {
   "display_name": "Python 3",
   "language": "python",
   "name": "python3"
  },
  "language_info": {
   "codemirror_mode": {
    "name": "ipython",
    "version": 3
   },
   "file_extension": ".py",
   "mimetype": "text/x-python",
   "name": "python",
   "nbconvert_exporter": "python",
   "pygments_lexer": "ipython3",
   "version": "3.12.1"
  }
 },
 "nbformat": 4,
 "nbformat_minor": 2
}
